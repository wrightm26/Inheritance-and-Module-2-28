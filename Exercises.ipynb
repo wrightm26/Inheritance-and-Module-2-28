{
 "cells": [
  {
   "cell_type": "markdown",
   "metadata": {},
   "source": [
    "#### Exercise 1 - Class Inheritance"
   ]
  },
  {
   "cell_type": "markdown",
   "metadata": {},
   "source": [
    "Create an Employee class that sets an employee's first name, last name, job title, salary, and email. The Employee class should have a class attribute for the raise amount set to 5% (1.05). Create a method that will apply the raise to an employee's salary."
   ]
  },
  {
   "cell_type": "code",
   "execution_count": 32,
   "metadata": {},
   "outputs": [],
   "source": [
    "class Employee:\n",
    "    raise_amount = 1.05 #class attribute to raise salary 5%\n",
    "    \n",
    "    def __init__(self, first, last, job_title, salary):\n",
    "        self.first_name = first\n",
    "        self.last_name = last\n",
    "        self.salary = salary\n",
    "        self.email = first.lower() + '-' + last.lower() + \"@company.org\"\n",
    "        self.job_title = job_title\n",
    "        \n",
    "    def get_full_name(self):\n",
    "        return self.first_name + ' ' + self.last_name\n",
    "    \n",
    "    def your_job(self):\n",
    "        return f\"{self.get_full_name()}'s current position is {self.job_title}!\"\n",
    "        \n",
    "        \n",
    "    def apply_raise(self):\n",
    "        self.salary += self.raise_amount\n",
    "        print(f\"Congrats {self.get_full_name()}, you have received a raise and your new salary is ${self.salary}\")"
   ]
  },
  {
   "cell_type": "markdown",
   "metadata": {},
   "source": [
    "Create two more classes that inherit from the Employee class. One for Sales and one for Development. Both of these classes will have the same attributes as the Employee.<br>\n",
    "- For the Sales employees, add a phone number attribute on instantiation using the super method. \n",
    "- Create a method on the Sales class that will Send a Follow Up Email. It should take in a customer name and \"send\" aka print a formatted email \"Dear *customer*, Thank you for your interest in our product. Please let me know if you have any questions. My email is *email* or my phone number is *phone number*. Thanks, *full name*\"\n",
    "- Create a method on the Development class called code that will print out \"*full name* is writing code\"."
   ]
  },
  {
   "cell_type": "code",
   "execution_count": 48,
   "metadata": {},
   "outputs": [],
   "source": [
    "class Sales(Employee):\n",
    "    def __init__(self, first, last, job_title, salary, number):\n",
    "        super().__init__(first, last, job_title, salary)\n",
    "        self.number = number\n",
    "    \n",
    "    def send_follow_up(self, customer_name):\n",
    "        return (f\"Dear {customer_name}, Thank you for your interest in our product. Please let me know if you have any questions. My email is {self.email} or my phone number is {self.number}. Thanks, {self.get_full_name()}\")\n",
    "    \n",
    "class Development(Employee):\n",
    "    def __init__(self, first, last, job_title, salary):\n",
    "        super().__init__(first, last, job_title, salary)\n",
    "    \n",
    "    def code(self):\n",
    "        return f\"{self.get_full_name()} is writing code!\"\n",
    "        \n",
    "        \n",
    "    \n",
    "        "
   ]
  },
  {
   "cell_type": "markdown",
   "metadata": {},
   "source": [
    "- Create an instance of a Sales Employee with a salary of $50,000.\n",
    "- Send follow up emails to \"Mike O'Neil\" and \"Hannah Stern\"\n",
    "- Give the employee a raise and print the salary"
   ]
  },
  {
   "cell_type": "code",
   "execution_count": 63,
   "metadata": {},
   "outputs": [
    {
     "name": "stdout",
     "output_type": "stream",
     "text": [
      "Dear Hannah Stern, Thank you for your interest in our product. Please let me know if you have any questions. My email is mickel-wright@company.org or my phone number is 864907606. Thanks, Mickel Wright\n",
      "Dear Mike O'Neil, Thank you for your interest in our product. Please let me know if you have any questions. My email is mickel-wright@company.org or my phone number is 864907606. Thanks, Mickel Wright\n",
      "Congrats Mickel Wright, you have received a raise and your new salary is $50001.05\n",
      "None\n"
     ]
    }
   ],
   "source": [
    "me = Sales('Mickel', 'Wright', 'Sales Employee', 50000, 864907606)\n",
    "print(me.send_follow_up(\"Hannah Stern\"))\n",
    "print(me.send_follow_up(\"Mike O'Neil\"))\n",
    "print(me.apply_raise())"
   ]
  },
  {
   "cell_type": "markdown",
   "metadata": {},
   "source": [
    "- Create an instance of a Development Employee with a salary of $100,000\n",
    "- Write some code with this employee\n",
    "- Give the employee a raise and print the salary"
   ]
  },
  {
   "cell_type": "code",
   "execution_count": 62,
   "metadata": {},
   "outputs": [
    {
     "name": "stdout",
     "output_type": "stream",
     "text": [
      "Sarah Smith is writing code!\n",
      "Congrats Sarah Smith, you have received a raise and your new salary is $100001.05\n",
      "None\n"
     ]
    }
   ],
   "source": [
    "you = Development('Sarah', 'Smith', 'Development Employee', 100000)\n",
    "print(you.code())\n",
    "print(you.apply_raise())"
   ]
  },
  {
   "cell_type": "markdown",
   "metadata": {},
   "source": [
    "#### Exercise 2 - Importing Modules"
   ]
  },
  {
   "cell_type": "markdown",
   "metadata": {},
   "source": [
    "In VS Code, create a module titled `geometry` and add two functions in there. One that will calculate the area of a circle given a radius. The second will find the hypotenuse of a right angle given the two sides. Import the module or the functions from the module and use it to find the answers to the below questions"
   ]
  },
  {
   "cell_type": "markdown",
   "metadata": {},
   "source": [
    "What is the area of a circle with a radius of 7cm?"
   ]
  },
  {
   "cell_type": "code",
   "execution_count": 1,
   "metadata": {},
   "outputs": [
    {
     "name": "stdout",
     "output_type": "stream",
     "text": [
      "Hello this is the test module!\n",
      "153.93804002589985\n"
     ]
    }
   ],
   "source": [
    "import geometry\n",
    "\n",
    "geometry.area(7)"
   ]
  },
  {
   "cell_type": "markdown",
   "metadata": {},
   "source": [
    "What is the hypotenuse of a right angle with sides of 3in and 4in?"
   ]
  },
  {
   "cell_type": "code",
   "execution_count": 5,
   "metadata": {},
   "outputs": [
    {
     "name": "stdout",
     "output_type": "stream",
     "text": [
      "5.0\n"
     ]
    }
   ],
   "source": [
    "import geometry\n",
    "\n",
    "geometry.hypotenuse(3, 4)"
   ]
  },
  {
   "cell_type": "code",
   "execution_count": null,
   "metadata": {},
   "outputs": [],
   "source": []
  }
 ],
 "metadata": {
  "kernelspec": {
   "display_name": "Python 3 (ipykernel)",
   "language": "python",
   "name": "python3"
  },
  "language_info": {
   "codemirror_mode": {
    "name": "ipython",
    "version": 3
   },
   "file_extension": ".py",
   "mimetype": "text/x-python",
   "name": "python",
   "nbconvert_exporter": "python",
   "pygments_lexer": "ipython3",
   "version": "3.9.13"
  }
 },
 "nbformat": 4,
 "nbformat_minor": 4
}

{
 "cells": [
  {
   "cell_type": "code",
   "execution_count": 2,
   "id": "5670d5bf",
   "metadata": {},
   "outputs": [],
   "source": [
    "class Employee:\n",
    "    raise_amount = 1.05 #class attribute to raise salary 5%\n",
    "    \n",
    "    def __init__(self, first, last, job_title, salary):\n",
    "        self.first_name = first\n",
    "        self.last_name = last\n",
    "        self.salary = salary\n",
    "        self.email = first.lower() + '-' + last.lower() + \"@company.org\"\n",
    "        self.job_title = job_title\n",
    "        \n",
    "    def get_full_name(self):\n",
    "        return self.first_name + ' ' + self.last_name\n",
    "    \n",
    "    def your_job(self):\n",
    "        return f\"{self.get_full_name()}'s current position is {self.job_title}!\"\n",
    "        \n",
    "        \n",
    "    def apply_raise(self):\n",
    "        self.salary += self.raise_amount\n",
    "        print(f\"Congrats {self.get_full_name()}, you have received a raise and your new salary is {self.apply_raise()}\")\n",
    "        "
   ]
  },
  {
   "cell_type": "code",
   "execution_count": 3,
   "id": "b1d0af30",
   "metadata": {},
   "outputs": [],
   "source": [
    "class Sales(Employee):\n",
    "    def __init__(self, number):\n",
    "        super().__init__(number, )\n",
    "        full_name = super().get_full_name()\n",
    "        print(full_name)\n",
    "        return self.number\n",
    "    def send_follow_up(self, customer_name):\n",
    "        return (f\"Dear {customer}, Thank you for your interest in our product. Please let me know if you have any questions. My email is {self.email} or my phone number is {self.number}. Thanks, {self.get_full_name()}\")\n",
    "    \n",
    "class Development(Employee):\n",
    "    def __init__(self):\n",
    "        return f\"{self.get_full_name()} is writing code!\"\n",
    "        "
   ]
  },
  {
   "cell_type": "code",
   "execution_count": 4,
   "id": "9abfbfc8",
   "metadata": {},
   "outputs": [
    {
     "data": {
      "text/plain": [
       "\"Sarah Smith's current position is Sales Associate!\""
      ]
     },
     "execution_count": 4,
     "metadata": {},
     "output_type": "execute_result"
    }
   ],
   "source": [
    "you = Employee('Sarah', 'Smith', 'Sales Associate', 50000)\n",
    "you.get_full_name()\n",
    "you.your_job()\n",
    "you.apply_raise()\n"
   ]
  },
  {
   "cell_type": "code",
   "execution_count": null,
   "id": "b1fd0624",
   "metadata": {},
   "outputs": [],
   "source": []
  },
  {
   "cell_type": "code",
   "execution_count": null,
   "id": "78a78023",
   "metadata": {},
   "outputs": [],
   "source": []
  },
  {
   "cell_type": "code",
   "execution_count": null,
   "id": "cbcad153",
   "metadata": {},
   "outputs": [],
   "source": []
  }
 ],
 "metadata": {
  "kernelspec": {
   "display_name": "Python 3 (ipykernel)",
   "language": "python",
   "name": "python3"
  },
  "language_info": {
   "codemirror_mode": {
    "name": "ipython",
    "version": 3
   },
   "file_extension": ".py",
   "mimetype": "text/x-python",
   "name": "python",
   "nbconvert_exporter": "python",
   "pygments_lexer": "ipython3",
   "version": "3.9.13"
  }
 },
 "nbformat": 4,
 "nbformat_minor": 5
}
